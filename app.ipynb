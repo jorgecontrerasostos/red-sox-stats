{
 "cells": [
  {
   "cell_type": "code",
   "execution_count": 10,
   "id": "848af79759da2cfe",
   "metadata": {
    "ExecuteTime": {
     "end_time": "2025-04-13T03:14:19.938986Z",
     "start_time": "2025-04-13T03:14:19.934682Z"
    }
   },
   "outputs": [
    {
     "data": {
      "text/plain": [
       "<module 'data_loader' from '/Users/jorgecontreras/Desktop/projects/red-sox-stats/data_loader.py'>"
      ]
     },
     "execution_count": 10,
     "metadata": {},
     "output_type": "execute_result"
    }
   ],
   "source": [
    "# Ensure required libraries are installed\n",
    "from data_loader import get_data\n",
    "import data_loader\n",
    "import importlib\n",
    "import constants\n",
    "import matplotlib.pyplot as plt\n",
    "import seaborn as sns\n",
    "importlib.reload(constants)\n",
    "importlib.reload(data_loader)"
   ]
  },
  {
   "cell_type": "code",
   "execution_count": 11,
   "id": "1134dc7ff91e5e2c",
   "metadata": {
    "ExecuteTime": {
     "end_time": "2025-04-13T03:10:21.427074Z",
     "start_time": "2025-04-13T03:10:21.248910Z"
    }
   },
   "outputs": [],
   "source": [
    "batters_df, pitchers_df = get_data()"
   ]
  },
  {
   "cell_type": "code",
   "execution_count": 12,
   "id": "83ba62dc0ca9922",
   "metadata": {
    "ExecuteTime": {
     "end_time": "2025-04-13T03:10:21.492012Z",
     "start_time": "2025-04-13T03:10:21.488111Z"
    }
   },
   "outputs": [
    {
     "data": {
      "application/vnd.microsoft.datawrangler.viewer.v0+json": {
       "columns": [
        {
         "name": "index",
         "rawType": "int64",
         "type": "integer"
        },
        {
         "name": "name",
         "rawType": "object",
         "type": "string"
        },
        {
         "name": "postion",
         "rawType": "object",
         "type": "string"
        },
        {
         "name": "pos_abb",
         "rawType": "object",
         "type": "string"
        },
        {
         "name": "avg",
         "rawType": "float64",
         "type": "float"
        },
        {
         "name": "at_bats",
         "rawType": "int64",
         "type": "integer"
        },
        {
         "name": "obp",
         "rawType": "float64",
         "type": "float"
        },
        {
         "name": "slg",
         "rawType": "float64",
         "type": "float"
        },
        {
         "name": "ops",
         "rawType": "float64",
         "type": "float"
        },
        {
         "name": "hits",
         "rawType": "int64",
         "type": "integer"
        },
        {
         "name": "rbi",
         "rawType": "int64",
         "type": "integer"
        }
       ],
       "conversionMethod": "pd.DataFrame",
       "ref": "96bd9da9-1553-4b36-b3d7-4f229f65c647",
       "rows": [
        [
         "0",
         "Alex Bregman",
         "Third Base",
         "3B",
         "0.314",
         "175",
         "0.392",
         "0.589",
         "0.981",
         "55",
         "33"
        ],
        [
         "1",
         "Wilyer Abreu",
         "Outfielder",
         "RF",
         "0.279",
         "147",
         "0.373",
         "0.551",
         "0.924",
         "41",
         "27"
        ],
        [
         "2",
         "Rafael Devers",
         "Designated Hitter",
         "DH",
         "0.278",
         "169",
         "0.395",
         "0.473",
         "0.868",
         "47",
         "32"
        ],
        [
         "3",
         "Kristian Campbell",
         "Second Base",
         "2B",
         "0.246",
         "142",
         "0.337",
         "0.408",
         "0.745",
         "35",
         "15"
        ],
        [
         "4",
         "Ceddanne Rafaela",
         "Outfielder",
         "CF",
         "0.25",
         "136",
         "0.304",
         "0.375",
         "0.679",
         "34",
         "18"
        ]
       ],
       "shape": {
        "columns": 10,
        "rows": 5
       }
      },
      "text/html": [
       "<div>\n",
       "<style scoped>\n",
       "    .dataframe tbody tr th:only-of-type {\n",
       "        vertical-align: middle;\n",
       "    }\n",
       "\n",
       "    .dataframe tbody tr th {\n",
       "        vertical-align: top;\n",
       "    }\n",
       "\n",
       "    .dataframe thead th {\n",
       "        text-align: right;\n",
       "    }\n",
       "</style>\n",
       "<table border=\"1\" class=\"dataframe\">\n",
       "  <thead>\n",
       "    <tr style=\"text-align: right;\">\n",
       "      <th></th>\n",
       "      <th>name</th>\n",
       "      <th>postion</th>\n",
       "      <th>pos_abb</th>\n",
       "      <th>avg</th>\n",
       "      <th>at_bats</th>\n",
       "      <th>obp</th>\n",
       "      <th>slg</th>\n",
       "      <th>ops</th>\n",
       "      <th>hits</th>\n",
       "      <th>rbi</th>\n",
       "    </tr>\n",
       "  </thead>\n",
       "  <tbody>\n",
       "    <tr>\n",
       "      <th>0</th>\n",
       "      <td>Alex Bregman</td>\n",
       "      <td>Third Base</td>\n",
       "      <td>3B</td>\n",
       "      <td>0.314</td>\n",
       "      <td>175</td>\n",
       "      <td>0.392</td>\n",
       "      <td>0.589</td>\n",
       "      <td>0.981</td>\n",
       "      <td>55</td>\n",
       "      <td>33</td>\n",
       "    </tr>\n",
       "    <tr>\n",
       "      <th>1</th>\n",
       "      <td>Wilyer Abreu</td>\n",
       "      <td>Outfielder</td>\n",
       "      <td>RF</td>\n",
       "      <td>0.279</td>\n",
       "      <td>147</td>\n",
       "      <td>0.373</td>\n",
       "      <td>0.551</td>\n",
       "      <td>0.924</td>\n",
       "      <td>41</td>\n",
       "      <td>27</td>\n",
       "    </tr>\n",
       "    <tr>\n",
       "      <th>2</th>\n",
       "      <td>Rafael Devers</td>\n",
       "      <td>Designated Hitter</td>\n",
       "      <td>DH</td>\n",
       "      <td>0.278</td>\n",
       "      <td>169</td>\n",
       "      <td>0.395</td>\n",
       "      <td>0.473</td>\n",
       "      <td>0.868</td>\n",
       "      <td>47</td>\n",
       "      <td>32</td>\n",
       "    </tr>\n",
       "    <tr>\n",
       "      <th>3</th>\n",
       "      <td>Kristian Campbell</td>\n",
       "      <td>Second Base</td>\n",
       "      <td>2B</td>\n",
       "      <td>0.246</td>\n",
       "      <td>142</td>\n",
       "      <td>0.337</td>\n",
       "      <td>0.408</td>\n",
       "      <td>0.745</td>\n",
       "      <td>35</td>\n",
       "      <td>15</td>\n",
       "    </tr>\n",
       "    <tr>\n",
       "      <th>4</th>\n",
       "      <td>Ceddanne Rafaela</td>\n",
       "      <td>Outfielder</td>\n",
       "      <td>CF</td>\n",
       "      <td>0.250</td>\n",
       "      <td>136</td>\n",
       "      <td>0.304</td>\n",
       "      <td>0.375</td>\n",
       "      <td>0.679</td>\n",
       "      <td>34</td>\n",
       "      <td>18</td>\n",
       "    </tr>\n",
       "  </tbody>\n",
       "</table>\n",
       "</div>"
      ],
      "text/plain": [
       "                name            postion pos_abb    avg  at_bats    obp    slg  \\\n",
       "0       Alex Bregman         Third Base      3B  0.314      175  0.392  0.589   \n",
       "1       Wilyer Abreu         Outfielder      RF  0.279      147  0.373  0.551   \n",
       "2      Rafael Devers  Designated Hitter      DH  0.278      169  0.395  0.473   \n",
       "3  Kristian Campbell        Second Base      2B  0.246      142  0.337  0.408   \n",
       "4   Ceddanne Rafaela         Outfielder      CF  0.250      136  0.304  0.375   \n",
       "\n",
       "     ops  hits  rbi  \n",
       "0  0.981    55   33  \n",
       "1  0.924    41   27  \n",
       "2  0.868    47   32  \n",
       "3  0.745    35   15  \n",
       "4  0.679    34   18  "
      ]
     },
     "execution_count": 12,
     "metadata": {},
     "output_type": "execute_result"
    }
   ],
   "source": [
    "batters_df.head()"
   ]
  },
  {
   "cell_type": "code",
   "execution_count": 16,
   "id": "322a5592278cf00d",
   "metadata": {
    "ExecuteTime": {
     "end_time": "2025-04-13T03:10:21.511681Z",
     "start_time": "2025-04-13T03:10:21.508509Z"
    }
   },
   "outputs": [
    {
     "data": {
      "application/vnd.microsoft.datawrangler.viewer.v0+json": {
       "columns": [
        {
         "name": "index",
         "rawType": "int64",
         "type": "integer"
        },
        {
         "name": "name",
         "rawType": "object",
         "type": "string"
        },
        {
         "name": "position",
         "rawType": "object",
         "type": "string"
        },
        {
         "name": "wins",
         "rawType": "int64",
         "type": "integer"
        },
        {
         "name": "losses",
         "rawType": "int64",
         "type": "integer"
        },
        {
         "name": "era",
         "rawType": "float64",
         "type": "float"
        },
        {
         "name": "whip",
         "rawType": "float64",
         "type": "float"
        },
        {
         "name": "k_per_9",
         "rawType": "float64",
         "type": "float"
        },
        {
         "name": "avg",
         "rawType": "float64",
         "type": "float"
        }
       ],
       "conversionMethod": "pd.DataFrame",
       "ref": "37652684-a44e-42a8-a3c7-5f28526a5624",
       "rows": [
        [
         "0",
         "Garrett Crochet",
         "Pitcher",
         "4",
         "2",
         "1.93",
         "1.07",
         "10.45",
         "0.192"
        ]
       ],
       "shape": {
        "columns": 8,
        "rows": 1
       }
      },
      "text/html": [
       "<div>\n",
       "<style scoped>\n",
       "    .dataframe tbody tr th:only-of-type {\n",
       "        vertical-align: middle;\n",
       "    }\n",
       "\n",
       "    .dataframe tbody tr th {\n",
       "        vertical-align: top;\n",
       "    }\n",
       "\n",
       "    .dataframe thead th {\n",
       "        text-align: right;\n",
       "    }\n",
       "</style>\n",
       "<table border=\"1\" class=\"dataframe\">\n",
       "  <thead>\n",
       "    <tr style=\"text-align: right;\">\n",
       "      <th></th>\n",
       "      <th>name</th>\n",
       "      <th>position</th>\n",
       "      <th>wins</th>\n",
       "      <th>losses</th>\n",
       "      <th>era</th>\n",
       "      <th>whip</th>\n",
       "      <th>k_per_9</th>\n",
       "      <th>avg</th>\n",
       "    </tr>\n",
       "  </thead>\n",
       "  <tbody>\n",
       "    <tr>\n",
       "      <th>0</th>\n",
       "      <td>Garrett Crochet</td>\n",
       "      <td>Pitcher</td>\n",
       "      <td>4</td>\n",
       "      <td>2</td>\n",
       "      <td>1.93</td>\n",
       "      <td>1.07</td>\n",
       "      <td>10.45</td>\n",
       "      <td>0.192</td>\n",
       "    </tr>\n",
       "  </tbody>\n",
       "</table>\n",
       "</div>"
      ],
      "text/plain": [
       "              name position  wins  losses   era  whip  k_per_9    avg\n",
       "0  Garrett Crochet  Pitcher     4       2  1.93  1.07    10.45  0.192"
      ]
     },
     "execution_count": 16,
     "metadata": {},
     "output_type": "execute_result"
    }
   ],
   "source": [
    "pitchers_df.head()"
   ]
  },
  {
   "cell_type": "code",
   "execution_count": 14,
   "id": "505248289c6e0b65",
   "metadata": {
    "ExecuteTime": {
     "end_time": "2025-04-13T03:18:21.012336Z",
     "start_time": "2025-04-13T03:18:20.940701Z"
    }
   },
   "outputs": [
    {
     "data": {
      "image/png": "[encoded data removed]",
      "text/plain": [
       "<Figure size 1000x600 with 1 Axes>"
      ]
     },
     "metadata": {},
     "output_type": "display_data"
    }
   ],
   "source": [
    "top_batters = batters_df.sort_values(by=\"avg\", ascending=False)\n",
    "\n",
    "plt.figure(figsize=(10, 6))\n",
    "sns.barplot(data=top_batters, x=\"avg\", y=\"name\", hue=\"name\", legend=False)\n",
    "plt.title(\"Batting Averages\")\n",
    "plt.xlabel(\"AVG\")\n",
    "plt.ylabel(\"Player\")\n",
    "plt.tight_layout()\n",
    "plt.show()"
   ]
  },
  {
   "cell_type": "code",
   "execution_count": 15,
   "id": "3efe05e8d52bb021",
   "metadata": {
    "ExecuteTime": {
     "end_time": "2025-04-13T03:18:01.844087Z",
     "start_time": "2025-04-13T03:18:01.756433Z"
    }
   },
   "outputs": [
    {
     "data": {
      "image/png": "[encoded data removed]",
      "text/plain": [
       "<Figure size 1000x600 with 1 Axes>"
      ]
     },
     "metadata": {},
     "output_type": "display_data"
    }
   ],
   "source": [
    "top_pitchers = pitchers_df.sort_values(by=\"era\", ascending=True)\n",
    "\n",
    "plt.figure(figsize=(10, 6))\n",
    "sns.barplot(data=top_pitchers, x=\"era\", y=\"name\", hue=\"name\", legend=False)\n",
    "plt.title(\"ERA\")\n",
    "plt.xlabel(\"ERA\")\n",
    "plt.ylabel(\"Player\")\n",
    "plt.tight_layout()\n",
    "plt.show()"
   ]
  },
  {
   "cell_type": "code",
   "execution_count": null,
   "id": "82030be0d225a7c1",
   "metadata": {},
   "outputs": [],
   "source": []
  }
 ],
 "metadata": {
  "kernelspec": {
   "display_name": ".venv",
   "language": "python",
   "name": "python3"
  },
  "language_info": {
   "codemirror_mode": {
    "name": "ipython",
    "version": 3
   },
   "file_extension": ".py",
   "mimetype": "text/x-python",
   "name": "python",
   "nbconvert_exporter": "python",
   "pygments_lexer": "ipython3",
   "version": "3.13.2"
  }
 },
 "nbformat": 4,
 "nbformat_minor": 5
}
