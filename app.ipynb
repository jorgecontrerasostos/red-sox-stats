{
 "cells": [
  {
   "cell_type": "code",
   "execution_count": 25,
   "id": "848af79759da2cfe",
   "metadata": {
    "ExecuteTime": {
     "end_time": "2025-04-13T03:14:19.938986Z",
     "start_time": "2025-04-13T03:14:19.934682Z"
    }
   },
   "outputs": [
    {
     "data": {
      "text/plain": [
       "<module 'data_loader' from '/Users/jorgecontreras/Desktop/projects/red-sox-stats/data_loader.py'>"
      ]
     },
     "execution_count": 25,
     "metadata": {},
     "output_type": "execute_result"
    }
   ],
   "source": [
    "# Ensure required libraries are installed\n",
    "from data_loader import get_data\n",
    "import data_loader\n",
    "import importlib\n",
    "import constants\n",
    "import matplotlib.pyplot as plt\n",
    "import seaborn as sns\n",
    "importlib.reload(constants)\n",
    "importlib.reload(data_loader)"
   ]
  },
  {
   "cell_type": "code",
   "execution_count": 26,
   "id": "1134dc7ff91e5e2c",
   "metadata": {
    "ExecuteTime": {
     "end_time": "2025-04-13T03:10:21.427074Z",
     "start_time": "2025-04-13T03:10:21.248910Z"
    }
   },
   "outputs": [],
   "source": [
    "batters_df, pitchers_df = get_data()"
   ]
  },
  {
   "cell_type": "code",
   "execution_count": 27,
   "id": "83ba62dc0ca9922",
   "metadata": {
    "ExecuteTime": {
     "end_time": "2025-04-13T03:10:21.492012Z",
     "start_time": "2025-04-13T03:10:21.488111Z"
    }
   },
   "outputs": [
    {
     "data": {
      "application/vnd.microsoft.datawrangler.viewer.v0+json": {
       "columns": [
        {
         "name": "index",
         "rawType": "int64",
         "type": "integer"
        },
        {
         "name": "name",
         "rawType": "object",
         "type": "string"
        },
        {
         "name": "avg",
         "rawType": "float64",
         "type": "float"
        },
        {
         "name": "at_bats",
         "rawType": "int64",
         "type": "integer"
        },
        {
         "name": "obp",
         "rawType": "float64",
         "type": "float"
        },
        {
         "name": "slg",
         "rawType": "float64",
         "type": "float"
        },
        {
         "name": "ops",
         "rawType": "float64",
         "type": "float"
        },
        {
         "name": "hits",
         "rawType": "int64",
         "type": "integer"
        },
        {
         "name": "rbi",
         "rawType": "int64",
         "type": "integer"
        }
       ],
       "conversionMethod": "pd.DataFrame",
       "ref": "c62dc953-f03f-4882-b415-3a31fe57de1b",
       "rows": [
        [
         "0",
         "Trevor Story",
         "0.321",
         "81",
         "0.345",
         "0.531",
         "0.876",
         "26",
         "14"
        ],
        [
         "1",
         "Alex Bregman",
         "0.313",
         "80",
         "0.371",
         "0.55",
         "0.921",
         "25",
         "16"
        ],
        [
         "2",
         "Wilyer Abreu",
         "0.306",
         "62",
         "0.427",
         "0.532",
         "0.959",
         "19",
         "12"
        ],
        [
         "3",
         "Kristian Campbell",
         "0.288",
         "66",
         "0.385",
         "0.485",
         "0.87",
         "19",
         "6"
        ],
        [
         "4",
         "Triston Casas",
         "0.172",
         "64",
         "0.243",
         "0.266",
         "0.509",
         "11",
         "3"
        ]
       ],
       "shape": {
        "columns": 8,
        "rows": 5
       }
      },
      "text/html": [
       "<div>\n",
       "<style scoped>\n",
       "    .dataframe tbody tr th:only-of-type {\n",
       "        vertical-align: middle;\n",
       "    }\n",
       "\n",
       "    .dataframe tbody tr th {\n",
       "        vertical-align: top;\n",
       "    }\n",
       "\n",
       "    .dataframe thead th {\n",
       "        text-align: right;\n",
       "    }\n",
       "</style>\n",
       "<table border=\"1\" class=\"dataframe\">\n",
       "  <thead>\n",
       "    <tr style=\"text-align: right;\">\n",
       "      <th></th>\n",
       "      <th>name</th>\n",
       "      <th>avg</th>\n",
       "      <th>at_bats</th>\n",
       "      <th>obp</th>\n",
       "      <th>slg</th>\n",
       "      <th>ops</th>\n",
       "      <th>hits</th>\n",
       "      <th>rbi</th>\n",
       "    </tr>\n",
       "  </thead>\n",
       "  <tbody>\n",
       "    <tr>\n",
       "      <th>0</th>\n",
       "      <td>Trevor Story</td>\n",
       "      <td>0.321</td>\n",
       "      <td>81</td>\n",
       "      <td>0.345</td>\n",
       "      <td>0.531</td>\n",
       "      <td>0.876</td>\n",
       "      <td>26</td>\n",
       "      <td>14</td>\n",
       "    </tr>\n",
       "    <tr>\n",
       "      <th>1</th>\n",
       "      <td>Alex Bregman</td>\n",
       "      <td>0.313</td>\n",
       "      <td>80</td>\n",
       "      <td>0.371</td>\n",
       "      <td>0.550</td>\n",
       "      <td>0.921</td>\n",
       "      <td>25</td>\n",
       "      <td>16</td>\n",
       "    </tr>\n",
       "    <tr>\n",
       "      <th>2</th>\n",
       "      <td>Wilyer Abreu</td>\n",
       "      <td>0.306</td>\n",
       "      <td>62</td>\n",
       "      <td>0.427</td>\n",
       "      <td>0.532</td>\n",
       "      <td>0.959</td>\n",
       "      <td>19</td>\n",
       "      <td>12</td>\n",
       "    </tr>\n",
       "    <tr>\n",
       "      <th>3</th>\n",
       "      <td>Kristian Campbell</td>\n",
       "      <td>0.288</td>\n",
       "      <td>66</td>\n",
       "      <td>0.385</td>\n",
       "      <td>0.485</td>\n",
       "      <td>0.870</td>\n",
       "      <td>19</td>\n",
       "      <td>6</td>\n",
       "    </tr>\n",
       "    <tr>\n",
       "      <th>4</th>\n",
       "      <td>Triston Casas</td>\n",
       "      <td>0.172</td>\n",
       "      <td>64</td>\n",
       "      <td>0.243</td>\n",
       "      <td>0.266</td>\n",
       "      <td>0.509</td>\n",
       "      <td>11</td>\n",
       "      <td>3</td>\n",
       "    </tr>\n",
       "  </tbody>\n",
       "</table>\n",
       "</div>"
      ],
      "text/plain": [
       "                name    avg  at_bats    obp    slg    ops  hits  rbi\n",
       "0       Trevor Story  0.321       81  0.345  0.531  0.876    26   14\n",
       "1       Alex Bregman  0.313       80  0.371  0.550  0.921    25   16\n",
       "2       Wilyer Abreu  0.306       62  0.427  0.532  0.959    19   12\n",
       "3  Kristian Campbell  0.288       66  0.385  0.485  0.870    19    6\n",
       "4      Triston Casas  0.172       64  0.243  0.266  0.509    11    3"
      ]
     },
     "execution_count": 27,
     "metadata": {},
     "output_type": "execute_result"
    }
   ],
   "source": [
    "batters_df.head()"
   ]
  },
  {
   "cell_type": "code",
   "execution_count": 28,
   "id": "322a5592278cf00d",
   "metadata": {
    "ExecuteTime": {
     "end_time": "2025-04-13T03:10:21.511681Z",
     "start_time": "2025-04-13T03:10:21.508509Z"
    }
   },
   "outputs": [
    {
     "data": {
      "application/vnd.microsoft.datawrangler.viewer.v0+json": {
       "columns": [
        {
         "name": "index",
         "rawType": "int64",
         "type": "integer"
        },
        {
         "name": "name",
         "rawType": "object",
         "type": "string"
        },
        {
         "name": "wins",
         "rawType": "int64",
         "type": "integer"
        },
        {
         "name": "losses",
         "rawType": "int64",
         "type": "integer"
        },
        {
         "name": "era",
         "rawType": "float64",
         "type": "float"
        },
        {
         "name": "whip",
         "rawType": "float64",
         "type": "float"
        },
        {
         "name": "k_per_9",
         "rawType": "float64",
         "type": "float"
        },
        {
         "name": "avg",
         "rawType": "float64",
         "type": "float"
        }
       ],
       "conversionMethod": "pd.DataFrame",
       "ref": "b374fbae-b7b9-4ece-93d1-89829b3ddcd2",
       "rows": [
        [
         "0",
         "Garrett Crochet",
         "2",
         "1",
         "1.38",
         "0.88",
         "9.69",
         "0.165"
        ],
        [
         "1",
         "Sean Newcomb",
         "0",
         "2",
         "3.63",
         "1.9",
         "9.87",
         "0.343"
        ],
        [
         "2",
         "Walker Buehler",
         "2",
         "1",
         "5.23",
         "1.26",
         "7.4",
         "0.266"
        ],
        [
         "3",
         "Garrett Whitlock",
         "0",
         "0",
         "2.31",
         "1.11",
         "11.57",
         "0.214"
        ],
        [
         "4",
         "Richard Fitts",
         "0",
         "2",
         "3.18",
         "1.12",
         "6.88",
         "0.226"
        ]
       ],
       "shape": {
        "columns": 7,
        "rows": 5
       }
      },
      "text/html": [
       "<div>\n",
       "<style scoped>\n",
       "    .dataframe tbody tr th:only-of-type {\n",
       "        vertical-align: middle;\n",
       "    }\n",
       "\n",
       "    .dataframe tbody tr th {\n",
       "        vertical-align: top;\n",
       "    }\n",
       "\n",
       "    .dataframe thead th {\n",
       "        text-align: right;\n",
       "    }\n",
       "</style>\n",
       "<table border=\"1\" class=\"dataframe\">\n",
       "  <thead>\n",
       "    <tr style=\"text-align: right;\">\n",
       "      <th></th>\n",
       "      <th>name</th>\n",
       "      <th>wins</th>\n",
       "      <th>losses</th>\n",
       "      <th>era</th>\n",
       "      <th>whip</th>\n",
       "      <th>k_per_9</th>\n",
       "      <th>avg</th>\n",
       "    </tr>\n",
       "  </thead>\n",
       "  <tbody>\n",
       "    <tr>\n",
       "      <th>0</th>\n",
       "      <td>Garrett Crochet</td>\n",
       "      <td>2</td>\n",
       "      <td>1</td>\n",
       "      <td>1.38</td>\n",
       "      <td>0.88</td>\n",
       "      <td>9.69</td>\n",
       "      <td>0.165</td>\n",
       "    </tr>\n",
       "    <tr>\n",
       "      <th>1</th>\n",
       "      <td>Sean Newcomb</td>\n",
       "      <td>0</td>\n",
       "      <td>2</td>\n",
       "      <td>3.63</td>\n",
       "      <td>1.90</td>\n",
       "      <td>9.87</td>\n",
       "      <td>0.343</td>\n",
       "    </tr>\n",
       "    <tr>\n",
       "      <th>2</th>\n",
       "      <td>Walker Buehler</td>\n",
       "      <td>2</td>\n",
       "      <td>1</td>\n",
       "      <td>5.23</td>\n",
       "      <td>1.26</td>\n",
       "      <td>7.40</td>\n",
       "      <td>0.266</td>\n",
       "    </tr>\n",
       "    <tr>\n",
       "      <th>3</th>\n",
       "      <td>Garrett Whitlock</td>\n",
       "      <td>0</td>\n",
       "      <td>0</td>\n",
       "      <td>2.31</td>\n",
       "      <td>1.11</td>\n",
       "      <td>11.57</td>\n",
       "      <td>0.214</td>\n",
       "    </tr>\n",
       "    <tr>\n",
       "      <th>4</th>\n",
       "      <td>Richard Fitts</td>\n",
       "      <td>0</td>\n",
       "      <td>2</td>\n",
       "      <td>3.18</td>\n",
       "      <td>1.12</td>\n",
       "      <td>6.88</td>\n",
       "      <td>0.226</td>\n",
       "    </tr>\n",
       "  </tbody>\n",
       "</table>\n",
       "</div>"
      ],
      "text/plain": [
       "               name  wins  losses   era  whip  k_per_9    avg\n",
       "0   Garrett Crochet     2       1  1.38  0.88     9.69  0.165\n",
       "1      Sean Newcomb     0       2  3.63  1.90     9.87  0.343\n",
       "2    Walker Buehler     2       1  5.23  1.26     7.40  0.266\n",
       "3  Garrett Whitlock     0       0  2.31  1.11    11.57  0.214\n",
       "4     Richard Fitts     0       2  3.18  1.12     6.88  0.226"
      ]
     },
     "execution_count": 28,
     "metadata": {},
     "output_type": "execute_result"
    }
   ],
   "source": [
    "pitchers_df.head()"
   ]
  },
  {
   "cell_type": "code",
   "execution_count": 29,
   "id": "505248289c6e0b65",
   "metadata": {
    "ExecuteTime": {
     "end_time": "2025-04-13T03:18:21.012336Z",
     "start_time": "2025-04-13T03:18:20.940701Z"
    }
   },
   "outputs": [
    {
     "data": {
      "image/png": "[encoded data removed]",
      "text/plain": [
       "<Figure size 1000x600 with 1 Axes>"
      ]
     },
     "metadata": {},
     "output_type": "display_data"
    }
   ],
   "source": [
    "top_batters = batters_df.sort_values(by=\"avg\", ascending=False)\n",
    "\n",
    "plt.figure(figsize=(10, 6))\n",
    "sns.barplot(data=top_batters, x=\"avg\", y=\"name\", hue=\"name\", legend=False)\n",
    "plt.title(\"Batting Averages\")\n",
    "plt.xlabel(\"AVG\")\n",
    "plt.ylabel(\"Player\")\n",
    "plt.tight_layout()\n",
    "plt.show()"
   ]
  },
  {
   "cell_type": "code",
   "execution_count": 30,
   "id": "3efe05e8d52bb021",
   "metadata": {
    "ExecuteTime": {
     "end_time": "2025-04-13T03:18:01.844087Z",
     "start_time": "2025-04-13T03:18:01.756433Z"
    }
   },
   "outputs": [
    {
     "data": {
      "image/png": "[encoded data removed]",
      "text/plain": [
       "<Figure size 1000x600 with 1 Axes>"
      ]
     },
     "metadata": {},
     "output_type": "display_data"
    }
   ],
   "source": [
    "top_pitchers = pitchers_df.sort_values(by=\"era\", ascending=True)\n",
    "\n",
    "plt.figure(figsize=(10, 6))\n",
    "sns.barplot(data=top_pitchers, x=\"era\", y=\"name\", hue=\"name\", legend=False)\n",
    "plt.title(\"ERA\")\n",
    "plt.xlabel(\"ERA\")\n",
    "plt.ylabel(\"Player\")\n",
    "plt.tight_layout()\n",
    "plt.show()"
   ]
  },
  {
   "cell_type": "code",
   "execution_count": null,
   "id": "82030be0d225a7c1",
   "metadata": {},
   "outputs": [],
   "source": []
  }
 ],
 "metadata": {
  "kernelspec": {
   "display_name": ".venv",
   "language": "python",
   "name": "python3"
  },
  "language_info": {
   "codemirror_mode": {
    "name": "ipython",
    "version": 3
   },
   "file_extension": ".py",
   "mimetype": "text/x-python",
   "name": "python",
   "nbconvert_exporter": "python",
   "pygments_lexer": "ipython3",
   "version": "3.13.2"
  }
 },
 "nbformat": 4,
 "nbformat_minor": 5
}
