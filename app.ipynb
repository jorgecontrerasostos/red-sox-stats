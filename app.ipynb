{
 "cells": [
  {
   "cell_type": "code",
   "execution_count": 1,
   "id": "848af79759da2cfe",
   "metadata": {
    "ExecuteTime": {
     "end_time": "2025-04-13T03:14:19.938986Z",
     "start_time": "2025-04-13T03:14:19.934682Z"
    }
   },
   "outputs": [
    {
     "data": {
      "text/plain": [
       "<module 'data_loader' from '/Users/jorgecontreras/Desktop/projects/red-sox-stats/data_loader.py'>"
      ]
     },
     "execution_count": 1,
     "metadata": {},
     "output_type": "execute_result"
    }
   ],
   "source": [
    "# Ensure required libraries are installed\n",
    "from data_loader import get_data\n",
    "import data_loader\n",
    "import importlib\n",
    "import constants\n",
    "import matplotlib.pyplot as plt\n",
    "import seaborn as sns\n",
    "importlib.reload(constants)\n",
    "importlib.reload(data_loader)"
   ]
  },
  {
   "cell_type": "code",
   "execution_count": 2,
   "id": "1134dc7ff91e5e2c",
   "metadata": {
    "ExecuteTime": {
     "end_time": "2025-04-13T03:10:21.427074Z",
     "start_time": "2025-04-13T03:10:21.248910Z"
    }
   },
   "outputs": [],
   "source": [
    "batters_df, pitchers_df = get_data()"
   ]
  },
  {
   "cell_type": "code",
   "execution_count": 19,
   "id": "83ba62dc0ca9922",
   "metadata": {
    "ExecuteTime": {
     "end_time": "2025-04-13T03:10:21.492012Z",
     "start_time": "2025-04-13T03:10:21.488111Z"
    }
   },
   "outputs": [
    {
     "data": {
      "application/vnd.microsoft.datawrangler.viewer.v0+json": {
       "columns": [
        {
         "name": "index",
         "rawType": "int64",
         "type": "integer"
        },
        {
         "name": "name",
         "rawType": "object",
         "type": "string"
        },
        {
         "name": "postion",
         "rawType": "object",
         "type": "string"
        },
        {
         "name": "pos_abb",
         "rawType": "object",
         "type": "string"
        },
        {
         "name": "avg",
         "rawType": "float64",
         "type": "float"
        },
        {
         "name": "at_bats",
         "rawType": "int64",
         "type": "integer"
        },
        {
         "name": "obp",
         "rawType": "float64",
         "type": "float"
        },
        {
         "name": "slg",
         "rawType": "float64",
         "type": "float"
        },
        {
         "name": "ops",
         "rawType": "float64",
         "type": "float"
        },
        {
         "name": "hits",
         "rawType": "int64",
         "type": "integer"
        },
        {
         "name": "rbi",
         "rawType": "int64",
         "type": "integer"
        }
       ],
       "conversionMethod": "pd.DataFrame",
       "ref": "35a354c8-6c5d-4214-8be1-285920ef1cbe",
       "rows": [
        [
         "0",
         "Wilyer Abreu",
         "Outfielder",
         "RF",
         "0.288",
         "66",
         "0.413",
         "0.5",
         "0.913",
         "19",
         "12"
        ],
        [
         "1",
         "Alex Bregman",
         "Third Base",
         "3B",
         "0.294",
         "85",
         "0.358",
         "0.518",
         "0.876",
         "25",
         "16"
        ],
        [
         "2",
         "Kristian Campbell",
         "Second Base",
         "2B",
         "0.29",
         "69",
         "0.398",
         "0.478",
         "0.876",
         "20",
         "6"
        ],
        [
         "3",
         "Trevor Story",
         "Shortstop",
         "SS",
         "0.318",
         "85",
         "0.348",
         "0.518",
         "0.866",
         "27",
         "14"
        ],
        [
         "4",
         "Rafael Devers",
         "Designated Hitter",
         "3B",
         "0.229",
         "83",
         "0.343",
         "0.386",
         "0.729",
         "19",
         "12"
        ]
       ],
       "shape": {
        "columns": 10,
        "rows": 5
       }
      },
      "text/html": [
       "<div>\n",
       "<style scoped>\n",
       "    .dataframe tbody tr th:only-of-type {\n",
       "        vertical-align: middle;\n",
       "    }\n",
       "\n",
       "    .dataframe tbody tr th {\n",
       "        vertical-align: top;\n",
       "    }\n",
       "\n",
       "    .dataframe thead th {\n",
       "        text-align: right;\n",
       "    }\n",
       "</style>\n",
       "<table border=\"1\" class=\"dataframe\">\n",
       "  <thead>\n",
       "    <tr style=\"text-align: right;\">\n",
       "      <th></th>\n",
       "      <th>name</th>\n",
       "      <th>postion</th>\n",
       "      <th>pos_abb</th>\n",
       "      <th>avg</th>\n",
       "      <th>at_bats</th>\n",
       "      <th>obp</th>\n",
       "      <th>slg</th>\n",
       "      <th>ops</th>\n",
       "      <th>hits</th>\n",
       "      <th>rbi</th>\n",
       "    </tr>\n",
       "  </thead>\n",
       "  <tbody>\n",
       "    <tr>\n",
       "      <th>0</th>\n",
       "      <td>Wilyer Abreu</td>\n",
       "      <td>Outfielder</td>\n",
       "      <td>RF</td>\n",
       "      <td>0.288</td>\n",
       "      <td>66</td>\n",
       "      <td>0.413</td>\n",
       "      <td>0.500</td>\n",
       "      <td>0.913</td>\n",
       "      <td>19</td>\n",
       "      <td>12</td>\n",
       "    </tr>\n",
       "    <tr>\n",
       "      <th>1</th>\n",
       "      <td>Alex Bregman</td>\n",
       "      <td>Third Base</td>\n",
       "      <td>3B</td>\n",
       "      <td>0.294</td>\n",
       "      <td>85</td>\n",
       "      <td>0.358</td>\n",
       "      <td>0.518</td>\n",
       "      <td>0.876</td>\n",
       "      <td>25</td>\n",
       "      <td>16</td>\n",
       "    </tr>\n",
       "    <tr>\n",
       "      <th>2</th>\n",
       "      <td>Kristian Campbell</td>\n",
       "      <td>Second Base</td>\n",
       "      <td>2B</td>\n",
       "      <td>0.290</td>\n",
       "      <td>69</td>\n",
       "      <td>0.398</td>\n",
       "      <td>0.478</td>\n",
       "      <td>0.876</td>\n",
       "      <td>20</td>\n",
       "      <td>6</td>\n",
       "    </tr>\n",
       "    <tr>\n",
       "      <th>3</th>\n",
       "      <td>Trevor Story</td>\n",
       "      <td>Shortstop</td>\n",
       "      <td>SS</td>\n",
       "      <td>0.318</td>\n",
       "      <td>85</td>\n",
       "      <td>0.348</td>\n",
       "      <td>0.518</td>\n",
       "      <td>0.866</td>\n",
       "      <td>27</td>\n",
       "      <td>14</td>\n",
       "    </tr>\n",
       "    <tr>\n",
       "      <th>4</th>\n",
       "      <td>Rafael Devers</td>\n",
       "      <td>Designated Hitter</td>\n",
       "      <td>3B</td>\n",
       "      <td>0.229</td>\n",
       "      <td>83</td>\n",
       "      <td>0.343</td>\n",
       "      <td>0.386</td>\n",
       "      <td>0.729</td>\n",
       "      <td>19</td>\n",
       "      <td>12</td>\n",
       "    </tr>\n",
       "  </tbody>\n",
       "</table>\n",
       "</div>"
      ],
      "text/plain": [
       "                name            postion pos_abb    avg  at_bats    obp    slg  \\\n",
       "0       Wilyer Abreu         Outfielder      RF  0.288       66  0.413  0.500   \n",
       "1       Alex Bregman         Third Base      3B  0.294       85  0.358  0.518   \n",
       "2  Kristian Campbell        Second Base      2B  0.290       69  0.398  0.478   \n",
       "3       Trevor Story          Shortstop      SS  0.318       85  0.348  0.518   \n",
       "4      Rafael Devers  Designated Hitter      3B  0.229       83  0.343  0.386   \n",
       "\n",
       "     ops  hits  rbi  \n",
       "0  0.913    19   12  \n",
       "1  0.876    25   16  \n",
       "2  0.876    20    6  \n",
       "3  0.866    27   14  \n",
       "4  0.729    19   12  "
      ]
     },
     "execution_count": 19,
     "metadata": {},
     "output_type": "execute_result"
    }
   ],
   "source": [
    "batters_df.head()"
   ]
  },
  {
   "cell_type": "code",
   "execution_count": 9,
   "id": "322a5592278cf00d",
   "metadata": {
    "ExecuteTime": {
     "end_time": "2025-04-13T03:10:21.511681Z",
     "start_time": "2025-04-13T03:10:21.508509Z"
    }
   },
   "outputs": [
    {
     "data": {
      "application/vnd.microsoft.datawrangler.viewer.v0+json": {
       "columns": [
        {
         "name": "index",
         "rawType": "int64",
         "type": "integer"
        },
        {
         "name": "name",
         "rawType": "object",
         "type": "string"
        },
        {
         "name": "position",
         "rawType": "object",
         "type": "string"
        },
        {
         "name": "wins",
         "rawType": "int64",
         "type": "integer"
        },
        {
         "name": "losses",
         "rawType": "int64",
         "type": "integer"
        },
        {
         "name": "era",
         "rawType": "float64",
         "type": "float"
        },
        {
         "name": "whip",
         "rawType": "float64",
         "type": "float"
        },
        {
         "name": "k_per_9",
         "rawType": "float64",
         "type": "float"
        },
        {
         "name": "avg",
         "rawType": "float64",
         "type": "float"
        }
       ],
       "conversionMethod": "pd.DataFrame",
       "ref": "77558047-f060-4769-bc05-4ddc2c3fb528",
       "rows": [
        [
         "0",
         "Garrett Crochet",
         "Pitcher",
         "2",
         "1",
         "1.13",
         "0.91",
         "9.84",
         "0.168"
        ],
        [
         "1",
         "Sean Newcomb",
         "Pitcher",
         "0",
         "2",
         "3.63",
         "1.9",
         "9.87",
         "0.343"
        ],
        [
         "2",
         "Walker Buehler",
         "Pitcher",
         "2",
         "1",
         "5.23",
         "1.26",
         "7.4",
         "0.266"
        ],
        [
         "3",
         "Garrett Whitlock",
         "Pitcher",
         "1",
         "0",
         "2.13",
         "1.11",
         "12.08",
         "0.2"
        ],
        [
         "4",
         "Aroldis Chapman",
         "Pitcher",
         "2",
         "1",
         "1.08",
         "1.2",
         "14.04",
         "0.2"
        ]
       ],
       "shape": {
        "columns": 8,
        "rows": 5
       }
      },
      "text/html": [
       "<div>\n",
       "<style scoped>\n",
       "    .dataframe tbody tr th:only-of-type {\n",
       "        vertical-align: middle;\n",
       "    }\n",
       "\n",
       "    .dataframe tbody tr th {\n",
       "        vertical-align: top;\n",
       "    }\n",
       "\n",
       "    .dataframe thead th {\n",
       "        text-align: right;\n",
       "    }\n",
       "</style>\n",
       "<table border=\"1\" class=\"dataframe\">\n",
       "  <thead>\n",
       "    <tr style=\"text-align: right;\">\n",
       "      <th></th>\n",
       "      <th>name</th>\n",
       "      <th>position</th>\n",
       "      <th>wins</th>\n",
       "      <th>losses</th>\n",
       "      <th>era</th>\n",
       "      <th>whip</th>\n",
       "      <th>k_per_9</th>\n",
       "      <th>avg</th>\n",
       "    </tr>\n",
       "  </thead>\n",
       "  <tbody>\n",
       "    <tr>\n",
       "      <th>0</th>\n",
       "      <td>Garrett Crochet</td>\n",
       "      <td>Pitcher</td>\n",
       "      <td>2</td>\n",
       "      <td>1</td>\n",
       "      <td>1.13</td>\n",
       "      <td>0.91</td>\n",
       "      <td>9.84</td>\n",
       "      <td>0.168</td>\n",
       "    </tr>\n",
       "    <tr>\n",
       "      <th>1</th>\n",
       "      <td>Sean Newcomb</td>\n",
       "      <td>Pitcher</td>\n",
       "      <td>0</td>\n",
       "      <td>2</td>\n",
       "      <td>3.63</td>\n",
       "      <td>1.90</td>\n",
       "      <td>9.87</td>\n",
       "      <td>0.343</td>\n",
       "    </tr>\n",
       "    <tr>\n",
       "      <th>2</th>\n",
       "      <td>Walker Buehler</td>\n",
       "      <td>Pitcher</td>\n",
       "      <td>2</td>\n",
       "      <td>1</td>\n",
       "      <td>5.23</td>\n",
       "      <td>1.26</td>\n",
       "      <td>7.40</td>\n",
       "      <td>0.266</td>\n",
       "    </tr>\n",
       "    <tr>\n",
       "      <th>3</th>\n",
       "      <td>Garrett Whitlock</td>\n",
       "      <td>Pitcher</td>\n",
       "      <td>1</td>\n",
       "      <td>0</td>\n",
       "      <td>2.13</td>\n",
       "      <td>1.11</td>\n",
       "      <td>12.08</td>\n",
       "      <td>0.200</td>\n",
       "    </tr>\n",
       "    <tr>\n",
       "      <th>4</th>\n",
       "      <td>Aroldis Chapman</td>\n",
       "      <td>Pitcher</td>\n",
       "      <td>2</td>\n",
       "      <td>1</td>\n",
       "      <td>1.08</td>\n",
       "      <td>1.20</td>\n",
       "      <td>14.04</td>\n",
       "      <td>0.200</td>\n",
       "    </tr>\n",
       "  </tbody>\n",
       "</table>\n",
       "</div>"
      ],
      "text/plain": [
       "               name position  wins  losses   era  whip  k_per_9    avg\n",
       "0   Garrett Crochet  Pitcher     2       1  1.13  0.91     9.84  0.168\n",
       "1      Sean Newcomb  Pitcher     0       2  3.63  1.90     9.87  0.343\n",
       "2    Walker Buehler  Pitcher     2       1  5.23  1.26     7.40  0.266\n",
       "3  Garrett Whitlock  Pitcher     1       0  2.13  1.11    12.08  0.200\n",
       "4   Aroldis Chapman  Pitcher     2       1  1.08  1.20    14.04  0.200"
      ]
     },
     "execution_count": 9,
     "metadata": {},
     "output_type": "execute_result"
    }
   ],
   "source": [
    "pitchers_df.head()"
   ]
  },
  {
   "cell_type": "code",
   "execution_count": 5,
   "id": "505248289c6e0b65",
   "metadata": {
    "ExecuteTime": {
     "end_time": "2025-04-13T03:18:21.012336Z",
     "start_time": "2025-04-13T03:18:20.940701Z"
    }
   },
   "outputs": [
    {
     "data": {
      "image/png": "[encoded data removed]",
      "text/plain": [
       "<Figure size 1000x600 with 1 Axes>"
      ]
     },
     "metadata": {},
     "output_type": "display_data"
    }
   ],
   "source": [
    "top_batters = batters_df.sort_values(by=\"avg\", ascending=False)\n",
    "\n",
    "plt.figure(figsize=(10, 6))\n",
    "sns.barplot(data=top_batters, x=\"avg\", y=\"name\", hue=\"name\", legend=False)\n",
    "plt.title(\"Batting Averages\")\n",
    "plt.xlabel(\"AVG\")\n",
    "plt.ylabel(\"Player\")\n",
    "plt.tight_layout()\n",
    "plt.show()"
   ]
  },
  {
   "cell_type": "code",
   "execution_count": 6,
   "id": "3efe05e8d52bb021",
   "metadata": {
    "ExecuteTime": {
     "end_time": "2025-04-13T03:18:01.844087Z",
     "start_time": "2025-04-13T03:18:01.756433Z"
    }
   },
   "outputs": [
    {
     "data": {
      "image/png": "[encoded data removed]",
      "text/plain": [
       "<Figure size 1000x600 with 1 Axes>"
      ]
     },
     "metadata": {},
     "output_type": "display_data"
    }
   ],
   "source": [
    "top_pitchers = pitchers_df.sort_values(by=\"era\", ascending=True)\n",
    "\n",
    "plt.figure(figsize=(10, 6))\n",
    "sns.barplot(data=top_pitchers, x=\"era\", y=\"name\", hue=\"name\", legend=False)\n",
    "plt.title(\"ERA\")\n",
    "plt.xlabel(\"ERA\")\n",
    "plt.ylabel(\"Player\")\n",
    "plt.tight_layout()\n",
    "plt.show()"
   ]
  },
  {
   "cell_type": "code",
   "execution_count": null,
   "id": "82030be0d225a7c1",
   "metadata": {},
   "outputs": [],
   "source": []
  }
 ],
 "metadata": {
  "kernelspec": {
   "display_name": ".venv",
   "language": "python",
   "name": "python3"
  },
  "language_info": {
   "codemirror_mode": {
    "name": "ipython",
    "version": 3
   },
   "file_extension": ".py",
   "mimetype": "text/x-python",
   "name": "python",
   "nbconvert_exporter": "python",
   "pygments_lexer": "ipython3",
   "version": "3.13.2"
  }
 },
 "nbformat": 4,
 "nbformat_minor": 5
}
